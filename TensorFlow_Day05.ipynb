{
  "nbformat": 4,
  "nbformat_minor": 0,
  "metadata": {
    "colab": {
      "provenance": [],
      "collapsed_sections": [],
      "authorship_tag": "ABX9TyMuzAJG8w61tgdxXJRaEruI"
    },
    "kernelspec": {
      "name": "python3",
      "display_name": "Python 3"
    },
    "language_info": {
      "name": "python"
    },
    "accelerator": "GPU",
    "gpuClass": "standard"
  },
  "cells": [
    {
      "cell_type": "markdown",
      "source": [
        "### Classification in Neural Network\n",
        "**Classification** is identifying which set of categories an observation belons to. Classification can be:\n",
        "* Binary Classification: refers to predicting one of two classes, e.g. spam-ham classification\n",
        "* Multi-Class Classification: refers to predicting one of more than two classes, e.g. predicting an image is of dog, cat or bird\n",
        "* Multi-label Classification: where one data belongs to multiple classes. e.g. A movie can belongs to different genre like comedy, suspence, romance.\n",
        "\n",
        "Let's start with some sample data from the Scikit Learn"
      ],
      "metadata": {
        "id": "WNQO_C2MJ5O9"
      }
    },
    {
      "cell_type": "code",
      "source": [
        "import pandas as pd\n",
        "import matplotlib.pyplot as plt\n",
        "from sklearn.datasets import make_moons\n",
        "\n",
        "X, y = make_moons(n_samples=1000, noise=0.03, random_state=13)"
      ],
      "metadata": {
        "id": "Xmfl5tBrGz5P"
      },
      "execution_count": 1,
      "outputs": []
    },
    {
      "cell_type": "code",
      "source": [
        "df = pd.DataFrame({\"X0\":X[:, 0], \"X1\":X[:, 1], \"label\":y})\n",
        "df.head()"
      ],
      "metadata": {
        "colab": {
          "base_uri": "https://localhost:8080/",
          "height": 206
        },
        "id": "TO71BXO9Gz1r",
        "outputId": "85c677e4-a5cd-4b61-d9e9-3371bbb98a0e"
      },
      "execution_count": 2,
      "outputs": [
        {
          "output_type": "execute_result",
          "data": {
            "text/plain": [
              "         X0        X1  label\n",
              "0  1.970105  0.170778      1\n",
              "1 -1.005016  0.273969      0\n",
              "2 -0.360586  0.916384      0\n",
              "3 -0.930688  0.408747      0\n",
              "4  1.679520 -0.250213      1"
            ],
            "text/html": [
              "\n",
              "  <div id=\"df-2f66bcab-8543-49b9-89bd-cfc5906d176f\">\n",
              "    <div class=\"colab-df-container\">\n",
              "      <div>\n",
              "<style scoped>\n",
              "    .dataframe tbody tr th:only-of-type {\n",
              "        vertical-align: middle;\n",
              "    }\n",
              "\n",
              "    .dataframe tbody tr th {\n",
              "        vertical-align: top;\n",
              "    }\n",
              "\n",
              "    .dataframe thead th {\n",
              "        text-align: right;\n",
              "    }\n",
              "</style>\n",
              "<table border=\"1\" class=\"dataframe\">\n",
              "  <thead>\n",
              "    <tr style=\"text-align: right;\">\n",
              "      <th></th>\n",
              "      <th>X0</th>\n",
              "      <th>X1</th>\n",
              "      <th>label</th>\n",
              "    </tr>\n",
              "  </thead>\n",
              "  <tbody>\n",
              "    <tr>\n",
              "      <th>0</th>\n",
              "      <td>1.970105</td>\n",
              "      <td>0.170778</td>\n",
              "      <td>1</td>\n",
              "    </tr>\n",
              "    <tr>\n",
              "      <th>1</th>\n",
              "      <td>-1.005016</td>\n",
              "      <td>0.273969</td>\n",
              "      <td>0</td>\n",
              "    </tr>\n",
              "    <tr>\n",
              "      <th>2</th>\n",
              "      <td>-0.360586</td>\n",
              "      <td>0.916384</td>\n",
              "      <td>0</td>\n",
              "    </tr>\n",
              "    <tr>\n",
              "      <th>3</th>\n",
              "      <td>-0.930688</td>\n",
              "      <td>0.408747</td>\n",
              "      <td>0</td>\n",
              "    </tr>\n",
              "    <tr>\n",
              "      <th>4</th>\n",
              "      <td>1.679520</td>\n",
              "      <td>-0.250213</td>\n",
              "      <td>1</td>\n",
              "    </tr>\n",
              "  </tbody>\n",
              "</table>\n",
              "</div>\n",
              "      <button class=\"colab-df-convert\" onclick=\"convertToInteractive('df-2f66bcab-8543-49b9-89bd-cfc5906d176f')\"\n",
              "              title=\"Convert this dataframe to an interactive table.\"\n",
              "              style=\"display:none;\">\n",
              "        \n",
              "  <svg xmlns=\"http://www.w3.org/2000/svg\" height=\"24px\"viewBox=\"0 0 24 24\"\n",
              "       width=\"24px\">\n",
              "    <path d=\"M0 0h24v24H0V0z\" fill=\"none\"/>\n",
              "    <path d=\"M18.56 5.44l.94 2.06.94-2.06 2.06-.94-2.06-.94-.94-2.06-.94 2.06-2.06.94zm-11 1L8.5 8.5l.94-2.06 2.06-.94-2.06-.94L8.5 2.5l-.94 2.06-2.06.94zm10 10l.94 2.06.94-2.06 2.06-.94-2.06-.94-.94-2.06-.94 2.06-2.06.94z\"/><path d=\"M17.41 7.96l-1.37-1.37c-.4-.4-.92-.59-1.43-.59-.52 0-1.04.2-1.43.59L10.3 9.45l-7.72 7.72c-.78.78-.78 2.05 0 2.83L4 21.41c.39.39.9.59 1.41.59.51 0 1.02-.2 1.41-.59l7.78-7.78 2.81-2.81c.8-.78.8-2.07 0-2.86zM5.41 20L4 18.59l7.72-7.72 1.47 1.35L5.41 20z\"/>\n",
              "  </svg>\n",
              "      </button>\n",
              "      \n",
              "  <style>\n",
              "    .colab-df-container {\n",
              "      display:flex;\n",
              "      flex-wrap:wrap;\n",
              "      gap: 12px;\n",
              "    }\n",
              "\n",
              "    .colab-df-convert {\n",
              "      background-color: #E8F0FE;\n",
              "      border: none;\n",
              "      border-radius: 50%;\n",
              "      cursor: pointer;\n",
              "      display: none;\n",
              "      fill: #1967D2;\n",
              "      height: 32px;\n",
              "      padding: 0 0 0 0;\n",
              "      width: 32px;\n",
              "    }\n",
              "\n",
              "    .colab-df-convert:hover {\n",
              "      background-color: #E2EBFA;\n",
              "      box-shadow: 0px 1px 2px rgba(60, 64, 67, 0.3), 0px 1px 3px 1px rgba(60, 64, 67, 0.15);\n",
              "      fill: #174EA6;\n",
              "    }\n",
              "\n",
              "    [theme=dark] .colab-df-convert {\n",
              "      background-color: #3B4455;\n",
              "      fill: #D2E3FC;\n",
              "    }\n",
              "\n",
              "    [theme=dark] .colab-df-convert:hover {\n",
              "      background-color: #434B5C;\n",
              "      box-shadow: 0px 1px 3px 1px rgba(0, 0, 0, 0.15);\n",
              "      filter: drop-shadow(0px 1px 2px rgba(0, 0, 0, 0.3));\n",
              "      fill: #FFFFFF;\n",
              "    }\n",
              "  </style>\n",
              "\n",
              "      <script>\n",
              "        const buttonEl =\n",
              "          document.querySelector('#df-2f66bcab-8543-49b9-89bd-cfc5906d176f button.colab-df-convert');\n",
              "        buttonEl.style.display =\n",
              "          google.colab.kernel.accessAllowed ? 'block' : 'none';\n",
              "\n",
              "        async function convertToInteractive(key) {\n",
              "          const element = document.querySelector('#df-2f66bcab-8543-49b9-89bd-cfc5906d176f');\n",
              "          const dataTable =\n",
              "            await google.colab.kernel.invokeFunction('convertToInteractive',\n",
              "                                                     [key], {});\n",
              "          if (!dataTable) return;\n",
              "\n",
              "          const docLinkHtml = 'Like what you see? Visit the ' +\n",
              "            '<a target=\"_blank\" href=https://colab.research.google.com/notebooks/data_table.ipynb>data table notebook</a>'\n",
              "            + ' to learn more about interactive tables.';\n",
              "          element.innerHTML = '';\n",
              "          dataTable['output_type'] = 'display_data';\n",
              "          await google.colab.output.renderOutput(dataTable, element);\n",
              "          const docLink = document.createElement('div');\n",
              "          docLink.innerHTML = docLinkHtml;\n",
              "          element.appendChild(docLink);\n",
              "        }\n",
              "      </script>\n",
              "    </div>\n",
              "  </div>\n",
              "  "
            ]
          },
          "metadata": {},
          "execution_count": 2
        }
      ]
    },
    {
      "cell_type": "code",
      "source": [
        "# Check out the different labels\n",
        "df.label.value_counts()"
      ],
      "metadata": {
        "colab": {
          "base_uri": "https://localhost:8080/"
        },
        "id": "SaUWwkpBOPQ1",
        "outputId": "e8b472db-9dae-4e0d-a853-9a0d2e3c1bf7"
      },
      "execution_count": 3,
      "outputs": [
        {
          "output_type": "execute_result",
          "data": {
            "text/plain": [
              "1    500\n",
              "0    500\n",
              "Name: label, dtype: int64"
            ]
          },
          "metadata": {},
          "execution_count": 3
        }
      ]
    },
    {
      "cell_type": "markdown",
      "source": [
        "It's binary because we are only having two labels 0 and 1"
      ],
      "metadata": {
        "id": "CP_WTR-XOWNU"
      }
    },
    {
      "cell_type": "code",
      "source": [
        "# Visualize with a plot\n",
        "plt.scatter(X[:, 0], X[:, 1], c=y, cmap=plt.cm.RdYlGn);"
      ],
      "metadata": {
        "colab": {
          "base_uri": "https://localhost:8080/",
          "height": 265
        },
        "id": "ecuw1Ho4GzzL",
        "outputId": "7ef655e0-3ff2-47dc-dcdf-fc973b0d12dd"
      },
      "execution_count": 4,
      "outputs": [
        {
          "output_type": "display_data",
          "data": {
            "text/plain": [
              "<Figure size 432x288 with 1 Axes>"
            ],
            "image/png": "[encoded data removed]"
          },
          "metadata": {
            "needs_background": "light"
          }
        }
      ]
    },
    {
      "cell_type": "code",
      "source": [
        "X.shape, y.shape"
      ],
      "metadata": {
        "colab": {
          "base_uri": "https://localhost:8080/"
        },
        "id": "2LGwot9zGzwr",
        "outputId": "a508dd19-a95a-42cb-aca3-7400c985c08e"
      },
      "execution_count": 5,
      "outputs": [
        {
          "output_type": "execute_result",
          "data": {
            "text/plain": [
              "((1000, 2), (1000,))"
            ]
          },
          "metadata": {},
          "execution_count": 5
        }
      ]
    },
    {
      "cell_type": "markdown",
      "source": [
        "### Create a Model"
      ],
      "metadata": {
        "id": "9Ep58NH8Gzty"
      }
    },
    {
      "cell_type": "code",
      "source": [
        "import tensorflow as tf\n",
        "\n",
        "# Set random seed\n",
        "tf.random.set_seed(13)\n",
        "\n",
        "# Create a Model\n",
        "model1 = tf.keras.Sequential([\n",
        "    tf.keras.layers.Dense(1)\n",
        "])\n",
        "\n",
        "# Compile the model\n",
        "model1.compile(loss=tf.keras.losses.BinaryCrossentropy(),\n",
        "               optimizer=tf.keras.optimizers.SGD(),\n",
        "               metrics=['Accuracy'])\n",
        "\n",
        "# Fit the model\n",
        "model1.fit(X, y, epochs=15)"
      ],
      "metadata": {
        "colab": {
          "base_uri": "https://localhost:8080/"
        },
        "id": "tE5HBT7-GzWf",
        "outputId": "9d4ddd36-9b38-4858-8815-d6431af4a5ff"
      },
      "execution_count": 6,
      "outputs": [
        {
          "output_type": "stream",
          "name": "stdout",
          "text": [
            "Epoch 1/15\n",
            "32/32 [==============================] - 1s 3ms/step - loss: 1.1075 - Accuracy: 0.8500\n",
            "Epoch 2/15\n",
            "32/32 [==============================] - 0s 3ms/step - loss: 0.5402 - Accuracy: 0.8730\n",
            "Epoch 3/15\n",
            "32/32 [==============================] - 0s 3ms/step - loss: 0.2302 - Accuracy: 0.8760\n",
            "Epoch 4/15\n",
            "32/32 [==============================] - 0s 3ms/step - loss: 0.2253 - Accuracy: 0.8780\n",
            "Epoch 5/15\n",
            "32/32 [==============================] - 0s 3ms/step - loss: 0.2237 - Accuracy: 0.8820\n",
            "Epoch 6/15\n",
            "32/32 [==============================] - 0s 3ms/step - loss: 0.2229 - Accuracy: 0.8850\n",
            "Epoch 7/15\n",
            "32/32 [==============================] - 0s 3ms/step - loss: 0.2225 - Accuracy: 0.8860\n",
            "Epoch 8/15\n",
            "32/32 [==============================] - 0s 3ms/step - loss: 0.2227 - Accuracy: 0.8870\n",
            "Epoch 9/15\n",
            "32/32 [==============================] - 0s 3ms/step - loss: 0.2225 - Accuracy: 0.8880\n",
            "Epoch 10/15\n",
            "32/32 [==============================] - 0s 3ms/step - loss: 0.2224 - Accuracy: 0.8840\n",
            "Epoch 11/15\n",
            "32/32 [==============================] - 0s 4ms/step - loss: 0.2224 - Accuracy: 0.8880\n",
            "Epoch 12/15\n",
            "32/32 [==============================] - 0s 3ms/step - loss: 0.2224 - Accuracy: 0.8890\n",
            "Epoch 13/15\n",
            "32/32 [==============================] - 0s 3ms/step - loss: 0.2224 - Accuracy: 0.8890\n",
            "Epoch 14/15\n",
            "32/32 [==============================] - 0s 3ms/step - loss: 0.2223 - Accuracy: 0.8880\n",
            "Epoch 15/15\n",
            "32/32 [==============================] - 0s 3ms/step - loss: 0.2224 - Accuracy: 0.8870\n"
          ]
        },
        {
          "output_type": "execute_result",
          "data": {
            "text/plain": [
              "<keras.callbacks.History at 0x7f6066632510>"
            ]
          },
          "metadata": {},
          "execution_count": 6
        }
      ]
    },
    {
      "cell_type": "code",
      "source": [
        "model1.evaluate(X,y)"
      ],
      "metadata": {
        "colab": {
          "base_uri": "https://localhost:8080/"
        },
        "id": "IGVd8USebyXQ",
        "outputId": "089d3cbc-8c80-45c9-82b3-ec914f6cdc66"
      },
      "execution_count": 7,
      "outputs": [
        {
          "output_type": "stream",
          "name": "stdout",
          "text": [
            "32/32 [==============================] - 0s 2ms/step - loss: 0.2220 - Accuracy: 0.8880\n"
          ]
        },
        {
          "output_type": "execute_result",
          "data": {
            "text/plain": [
              "[0.22204293310642242, 0.8880000114440918]"
            ]
          },
          "metadata": {},
          "execution_count": 7
        }
      ]
    },
    {
      "cell_type": "markdown",
      "source": [
        "We can see that our model is performing quite well, but let's see how to improve the Model's performance. Some of the common ways to improve Model's Performance:\n",
        "* Adding Layers\n",
        "* Increase the no of hidden units\n",
        "* Change the Activation function\n",
        "* Change the Optimizer\n",
        "* Change the learning rate\n",
        "* Fitting on more data\n",
        "* Run for more Epochs"
      ],
      "metadata": {
        "id": "1tNYX8SvcQc2"
      }
    },
    {
      "cell_type": "code",
      "source": [
        "# Split data into train and test sets\n",
        "X_train, y_train = X[:800], y[:800] # 80% of the data for the training set\n",
        "X_test, y_test = X[800:], y[800:] # 20% of the data for the test set\n",
        "\n",
        "# Check the shapes of the data\n",
        "X_train.shape, X_test.shape # 800 examples in the training set, 200 examples in the test set "
      ],
      "metadata": {
        "colab": {
          "base_uri": "https://localhost:8080/"
        },
        "id": "VYqkQtoCgxP7",
        "outputId": "447544aa-5ea0-4ba2-d937-acbdde944d64"
      },
      "execution_count": 8,
      "outputs": [
        {
          "output_type": "execute_result",
          "data": {
            "text/plain": [
              "((800, 2), (200, 2))"
            ]
          },
          "metadata": {},
          "execution_count": 8
        }
      ]
    },
    {
      "cell_type": "markdown",
      "source": [
        "During Compilation of Model we use:\n",
        "* **Loss function** —This measures how accurate the model is during training. You want to minimize this function to \"steer\" the model in the right direction.\n",
        "* **Optimizer** —This is how the model is updated based on the data it sees and its loss function.\n",
        "* **Metrics** —Used to monitor the training and testing steps. The following example uses accuracy, the fraction of the images that are correctly classified."
      ],
      "metadata": {
        "id": "jjfPla1RJnYp"
      }
    },
    {
      "cell_type": "code",
      "source": [
        "# Set random seed\n",
        "tf.random.set_seed(13)\n",
        "\n",
        "# Create a Model\n",
        "model2 = tf.keras.Sequential([\n",
        "    tf.keras.layers.Dense(10,activation=tf.keras.activations.relu),\n",
        "    tf.keras.layers.Dense(1, activation=\"sigmoid\")\n",
        "])\n",
        "\n",
        "# Compile the Model\n",
        "model2.compile(loss=tf.keras.losses.BinaryCrossentropy(),\n",
        "               optimizer=tf.keras.optimizers.Adam(learning_rate=0.01),\n",
        "               metrics=['Accuracy'])\n",
        "\n",
        "# Fit the model\n",
        "model2.fit(X_train, y_train, epochs=10, verbose=2)"
      ],
      "metadata": {
        "colab": {
          "base_uri": "https://localhost:8080/"
        },
        "id": "veJsi7JwdBx2",
        "outputId": "b1227ab1-adef-41c7-9860-e813a81eaca7"
      },
      "execution_count": 9,
      "outputs": [
        {
          "output_type": "stream",
          "name": "stdout",
          "text": [
            "Epoch 1/10\n",
            "25/25 - 1s - loss: 0.5707 - Accuracy: 0.7400 - 977ms/epoch - 39ms/step\n",
            "Epoch 2/10\n",
            "25/25 - 0s - loss: 0.3730 - Accuracy: 0.8450 - 148ms/epoch - 6ms/step\n",
            "Epoch 3/10\n",
            "25/25 - 0s - loss: 0.2841 - Accuracy: 0.8612 - 106ms/epoch - 4ms/step\n",
            "Epoch 4/10\n",
            "25/25 - 0s - loss: 0.2517 - Accuracy: 0.8775 - 130ms/epoch - 5ms/step\n",
            "Epoch 5/10\n",
            "25/25 - 0s - loss: 0.2353 - Accuracy: 0.8875 - 122ms/epoch - 5ms/step\n",
            "Epoch 6/10\n",
            "25/25 - 0s - loss: 0.2255 - Accuracy: 0.8888 - 91ms/epoch - 4ms/step\n",
            "Epoch 7/10\n",
            "25/25 - 0s - loss: 0.2224 - Accuracy: 0.8888 - 54ms/epoch - 2ms/step\n",
            "Epoch 8/10\n",
            "25/25 - 0s - loss: 0.2133 - Accuracy: 0.8888 - 55ms/epoch - 2ms/step\n",
            "Epoch 9/10\n",
            "25/25 - 0s - loss: 0.2102 - Accuracy: 0.8888 - 52ms/epoch - 2ms/step\n",
            "Epoch 10/10\n",
            "25/25 - 0s - loss: 0.2086 - Accuracy: 0.8913 - 53ms/epoch - 2ms/step\n"
          ]
        },
        {
          "output_type": "execute_result",
          "data": {
            "text/plain": [
              "<keras.callbacks.History at 0x7f6066430f90>"
            ]
          },
          "metadata": {},
          "execution_count": 9
        }
      ]
    },
    {
      "cell_type": "code",
      "source": [
        "loss, accuracy = model2.evaluate(X_test, y_test)\n",
        "loss, accuracy"
      ],
      "metadata": {
        "colab": {
          "base_uri": "https://localhost:8080/"
        },
        "id": "LV0IUzQNfyfi",
        "outputId": "b2a22296-a51a-459b-90b1-83c65737e28f"
      },
      "execution_count": 10,
      "outputs": [
        {
          "output_type": "stream",
          "name": "stdout",
          "text": [
            "7/7 [==============================] - 0s 3ms/step - loss: 0.1990 - Accuracy: 0.8900\n"
          ]
        },
        {
          "output_type": "execute_result",
          "data": {
            "text/plain": [
              "(0.19900937378406525, 0.8899999856948853)"
            ]
          },
          "metadata": {},
          "execution_count": 10
        }
      ]
    },
    {
      "cell_type": "markdown",
      "source": [
        "We can see that our Model's Accuracy is increased by 1% then previous one"
      ],
      "metadata": {
        "id": "5kVbrIW4iCmW"
      }
    },
    {
      "cell_type": "markdown",
      "source": [
        "### Classification Evaluation Metrics\n",
        "| **Metrics/Evaluation** | **Definition** | **Code** |\n",
        "| --- | --- | --- |\n",
        "| Accuracy | Out of 100 predictions, how many your model predicted correct? e.g. 95% accuracy means it gets 95/100 predictions correct. | [`sklearn.metrics.accuracy_score()`](https://scikit-learn.org/stable/modules/generated/sklearn.metrics.accuracy_score.html) or [`tf.keras.metrics.Accuracy()`](tensorflow.org/api_docs/python/tf/keras/metrics/Accuracy) |\n",
        "| Precision | Proportion of true positives over total number of samples. Higher precision leads to less false positives (model predicts 1 when it should've been 0). | [`sklearn.metrics.precision_score()`](https://scikit-learn.org/stable/modules/generated/sklearn.metrics.precision_score.html) or [`tf.keras.metrics.Precision()`](tensorflow.org/api_docs/python/tf/keras/metrics/Precision) |\n",
        "| Recall | Proportion of true positives over total number of true positives and false negatives (model predicts 0 when it should've been 1). Higher recall leads to less false negatives. | [`sklearn.metrics.recall_score()`](https://scikit-learn.org/stable/modules/generated/sklearn.metrics.recall_score.html) or [`tf.keras.metrics.Recall()`](tensorflow.org/api_docs/python/tf/keras/metrics/Recall) |\n",
        "| F1-score | Combines precision and recall into one metric. 1 is best, 0 is worst. | [`sklearn.metrics.f1_score()`](https://scikit-learn.org/stable/modules/generated/sklearn.metrics.f1_score.html) |\n",
        "| Confusion matrix  | Compares the predicted values with the true values in a tabular way, if 100% correct, all values in the matrix will be top left to bottom right (diagnol line). | Custom function or [`sklearn.metrics.plot_confusion_matrix()`](https://scikit-learn.org/stable/modules/generated/sklearn.metrics.plot_confusion_matrix.html) |\n",
        "| Classification report | Collection of some of the main classification metrics such as precision, recall and f1-score. | [`sklearn.metrics.classification_report()`](https://scikit-learn.org/stable/modules/generated/sklearn.metrics.classification_report.html) |\n"
      ],
      "metadata": {
        "id": "II0RG7wUjHkL"
      }
    },
    {
      "cell_type": "code",
      "source": [
        "from sklearn.metrics import confusion_matrix, accuracy_score, precision_score, recall_score, \\\n",
        "f1_score, classification_report,ConfusionMatrixDisplay"
      ],
      "metadata": {
        "id": "GVTl8OgzIzAv"
      },
      "execution_count": 11,
      "outputs": []
    },
    {
      "cell_type": "code",
      "source": [
        "y_pred = model2.predict(X_test)\n",
        "tf.round(y_pred)[:10]"
      ],
      "metadata": {
        "colab": {
          "base_uri": "https://localhost:8080/"
        },
        "id": "DVkW_D7BJa2t",
        "outputId": "fc4ef3e5-a948-4d1c-f250-aaf6b67056b2"
      },
      "execution_count": 12,
      "outputs": [
        {
          "output_type": "stream",
          "name": "stdout",
          "text": [
            "7/7 [==============================] - 0s 2ms/step\n"
          ]
        },
        {
          "output_type": "execute_result",
          "data": {
            "text/plain": [
              "<tf.Tensor: shape=(10, 1), dtype=float32, numpy=\n",
              "array([[1.],\n",
              "       [0.],\n",
              "       [0.],\n",
              "       [1.],\n",
              "       [0.],\n",
              "       [1.],\n",
              "       [1.],\n",
              "       [0.],\n",
              "       [0.],\n",
              "       [0.]], dtype=float32)>"
            ]
          },
          "metadata": {},
          "execution_count": 12
        }
      ]
    },
    {
      "cell_type": "code",
      "source": [
        "confusion_matrix(y_test, tf.round(y_pred))"
      ],
      "metadata": {
        "colab": {
          "base_uri": "https://localhost:8080/"
        },
        "id": "jxHnkHINK-5m",
        "outputId": "09472247-c731-436a-dfa4-8872d64aebae"
      },
      "execution_count": 13,
      "outputs": [
        {
          "output_type": "execute_result",
          "data": {
            "text/plain": [
              "array([[90,  9],\n",
              "       [13, 88]])"
            ]
          },
          "metadata": {},
          "execution_count": 13
        }
      ]
    },
    {
      "cell_type": "code",
      "source": [
        "fig, ax = plt.subplots(figsize=(8, 5))\n",
        "\n",
        "cmp = ConfusionMatrixDisplay(\n",
        "    confusion_matrix(y_test, tf.round(y_pred)),\n",
        ")\n",
        "\n",
        "cmp.plot(ax=ax);"
      ],
      "metadata": {
        "colab": {
          "base_uri": "https://localhost:8080/",
          "height": 338
        },
        "id": "ocHausbTI1th",
        "outputId": "741344c8-47ec-4521-9dad-da8bb18d0975"
      },
      "execution_count": 14,
      "outputs": [
        {
          "output_type": "display_data",
          "data": {
            "text/plain": [
              "<Figure size 576x360 with 2 Axes>"
            ],
            "image/png": "[encoded data removed]"
          },
          "metadata": {
            "needs_background": "light"
          }
        }
      ]
    },
    {
      "cell_type": "markdown",
      "source": [
        "### Multiclass Classification on MNIST Dataset"
      ],
      "metadata": {
        "id": "aUKHGZBCQi3z"
      }
    },
    {
      "cell_type": "code",
      "source": [
        "# Import libraries\n",
        "import tensorflow as tf\n",
        "from tensorflow.keras.datasets import fashion_mnist"
      ],
      "metadata": {
        "id": "_Ax8YSbKk83u"
      },
      "execution_count": 15,
      "outputs": []
    },
    {
      "cell_type": "code",
      "source": [
        "(train_data, train_labels), (test_data, test_labels) = fashion_mnist.load_data()"
      ],
      "metadata": {
        "id": "-XoDLP84ljkG"
      },
      "execution_count": 16,
      "outputs": []
    },
    {
      "cell_type": "code",
      "source": [
        "# Training example\n",
        "train_data[0], train_labels[0]"
      ],
      "metadata": {
        "colab": {
          "base_uri": "https://localhost:8080/"
        },
        "id": "NWsGixcMl8eS",
        "outputId": "2e548ca5-5432-429e-84bd-657861a3922f"
      },
      "execution_count": 17,
      "outputs": [
        {
          "output_type": "execute_result",
          "data": {
            "text/plain": [
              "(array([[  0,   0,   0,   0,   0,   0,   0,   0,   0,   0,   0,   0,   0,\n",
              "           0,   0,   0,   0,   0,   0,   0,   0,   0,   0,   0,   0,   0,\n",
              "           0,   0],\n",
              "        [  0,   0,   0,   0,   0,   0,   0,   0,   0,   0,   0,   0,   0,\n",
              "           0,   0,   0,   0,   0,   0,   0,   0,   0,   0,   0,   0,   0,\n",
              "           0,   0],\n",
              "        [  0,   0,   0,   0,   0,   0,   0,   0,   0,   0,   0,   0,   0,\n",
              "           0,   0,   0,   0,   0,   0,   0,   0,   0,   0,   0,   0,   0,\n",
              "           0,   0],\n",
              "        [  0,   0,   0,   0,   0,   0,   0,   0,   0,   0,   0,   0,   1,\n",
              "           0,   0,  13,  73,   0,   0,   1,   4,   0,   0,   0,   0,   1,\n",
              "           1,   0],\n",
              "        [  0,   0,   0,   0,   0,   0,   0,   0,   0,   0,   0,   0,   3,\n",
              "           0,  36, 136, 127,  62,  54,   0,   0,   0,   1,   3,   4,   0,\n",
              "           0,   3],\n",
              "        [  0,   0,   0,   0,   0,   0,   0,   0,   0,   0,   0,   0,   6,\n",
              "           0, 102, 204, 176, 134, 144, 123,  23,   0,   0,   0,   0,  12,\n",
              "          10,   0],\n",
              "        [  0,   0,   0,   0,   0,   0,   0,   0,   0,   0,   0,   0,   0,\n",
              "           0, 155, 236, 207, 178, 107, 156, 161, 109,  64,  23,  77, 130,\n",
              "          72,  15],\n",
              "        [  0,   0,   0,   0,   0,   0,   0,   0,   0,   0,   0,   1,   0,\n",
              "          69, 207, 223, 218, 216, 216, 163, 127, 121, 122, 146, 141,  88,\n",
              "         172,  66],\n",
              "        [  0,   0,   0,   0,   0,   0,   0,   0,   0,   1,   1,   1,   0,\n",
              "         200, 232, 232, 233, 229, 223, 223, 215, 213, 164, 127, 123, 196,\n",
              "         229,   0],\n",
              "        [  0,   0,   0,   0,   0,   0,   0,   0,   0,   0,   0,   0,   0,\n",
              "         183, 225, 216, 223, 228, 235, 227, 224, 222, 224, 221, 223, 245,\n",
              "         173,   0],\n",
              "        [  0,   0,   0,   0,   0,   0,   0,   0,   0,   0,   0,   0,   0,\n",
              "         193, 228, 218, 213, 198, 180, 212, 210, 211, 213, 223, 220, 243,\n",
              "         202,   0],\n",
              "        [  0,   0,   0,   0,   0,   0,   0,   0,   0,   1,   3,   0,  12,\n",
              "         219, 220, 212, 218, 192, 169, 227, 208, 218, 224, 212, 226, 197,\n",
              "         209,  52],\n",
              "        [  0,   0,   0,   0,   0,   0,   0,   0,   0,   0,   6,   0,  99,\n",
              "         244, 222, 220, 218, 203, 198, 221, 215, 213, 222, 220, 245, 119,\n",
              "         167,  56],\n",
              "        [  0,   0,   0,   0,   0,   0,   0,   0,   0,   4,   0,   0,  55,\n",
              "         236, 228, 230, 228, 240, 232, 213, 218, 223, 234, 217, 217, 209,\n",
              "          92,   0],\n",
              "        [  0,   0,   1,   4,   6,   7,   2,   0,   0,   0,   0,   0, 237,\n",
              "         226, 217, 223, 222, 219, 222, 221, 216, 223, 229, 215, 218, 255,\n",
              "          77,   0],\n",
              "        [  0,   3,   0,   0,   0,   0,   0,   0,   0,  62, 145, 204, 228,\n",
              "         207, 213, 221, 218, 208, 211, 218, 224, 223, 219, 215, 224, 244,\n",
              "         159,   0],\n",
              "        [  0,   0,   0,   0,  18,  44,  82, 107, 189, 228, 220, 222, 217,\n",
              "         226, 200, 205, 211, 230, 224, 234, 176, 188, 250, 248, 233, 238,\n",
              "         215,   0],\n",
              "        [  0,  57, 187, 208, 224, 221, 224, 208, 204, 214, 208, 209, 200,\n",
              "         159, 245, 193, 206, 223, 255, 255, 221, 234, 221, 211, 220, 232,\n",
              "         246,   0],\n",
              "        [  3, 202, 228, 224, 221, 211, 211, 214, 205, 205, 205, 220, 240,\n",
              "          80, 150, 255, 229, 221, 188, 154, 191, 210, 204, 209, 222, 228,\n",
              "         225,   0],\n",
              "        [ 98, 233, 198, 210, 222, 229, 229, 234, 249, 220, 194, 215, 217,\n",
              "         241,  65,  73, 106, 117, 168, 219, 221, 215, 217, 223, 223, 224,\n",
              "         229,  29],\n",
              "        [ 75, 204, 212, 204, 193, 205, 211, 225, 216, 185, 197, 206, 198,\n",
              "         213, 240, 195, 227, 245, 239, 223, 218, 212, 209, 222, 220, 221,\n",
              "         230,  67],\n",
              "        [ 48, 203, 183, 194, 213, 197, 185, 190, 194, 192, 202, 214, 219,\n",
              "         221, 220, 236, 225, 216, 199, 206, 186, 181, 177, 172, 181, 205,\n",
              "         206, 115],\n",
              "        [  0, 122, 219, 193, 179, 171, 183, 196, 204, 210, 213, 207, 211,\n",
              "         210, 200, 196, 194, 191, 195, 191, 198, 192, 176, 156, 167, 177,\n",
              "         210,  92],\n",
              "        [  0,   0,  74, 189, 212, 191, 175, 172, 175, 181, 185, 188, 189,\n",
              "         188, 193, 198, 204, 209, 210, 210, 211, 188, 188, 194, 192, 216,\n",
              "         170,   0],\n",
              "        [  2,   0,   0,   0,  66, 200, 222, 237, 239, 242, 246, 243, 244,\n",
              "         221, 220, 193, 191, 179, 182, 182, 181, 176, 166, 168,  99,  58,\n",
              "           0,   0],\n",
              "        [  0,   0,   0,   0,   0,   0,   0,  40,  61,  44,  72,  41,  35,\n",
              "           0,   0,   0,   0,   0,   0,   0,   0,   0,   0,   0,   0,   0,\n",
              "           0,   0],\n",
              "        [  0,   0,   0,   0,   0,   0,   0,   0,   0,   0,   0,   0,   0,\n",
              "           0,   0,   0,   0,   0,   0,   0,   0,   0,   0,   0,   0,   0,\n",
              "           0,   0],\n",
              "        [  0,   0,   0,   0,   0,   0,   0,   0,   0,   0,   0,   0,   0,\n",
              "           0,   0,   0,   0,   0,   0,   0,   0,   0,   0,   0,   0,   0,\n",
              "           0,   0]], dtype=uint8), 9)"
            ]
          },
          "metadata": {},
          "execution_count": 17
        }
      ]
    },
    {
      "cell_type": "code",
      "source": [
        "train_data[0].shape, train_labels[0].shape"
      ],
      "metadata": {
        "colab": {
          "base_uri": "https://localhost:8080/"
        },
        "id": "Wjh5Bfcimx-f",
        "outputId": "9a7772ad-79a1-4393-ab7e-8e99066eb613"
      },
      "execution_count": 18,
      "outputs": [
        {
          "output_type": "execute_result",
          "data": {
            "text/plain": [
              "((28, 28), ())"
            ]
          },
          "metadata": {},
          "execution_count": 18
        }
      ]
    },
    {
      "cell_type": "code",
      "source": [
        "# Plot a sample\n",
        "import matplotlib.pyplot as plt\n",
        "plt.imshow(train_data[4])"
      ],
      "metadata": {
        "colab": {
          "base_uri": "https://localhost:8080/",
          "height": 282
        },
        "id": "cSmmiGVRm4Xu",
        "outputId": "7b71236d-9f3f-46e2-d394-014d73c54bca"
      },
      "execution_count": 19,
      "outputs": [
        {
          "output_type": "execute_result",
          "data": {
            "text/plain": [
              "<matplotlib.image.AxesImage at 0x7f604f7e2390>"
            ]
          },
          "metadata": {},
          "execution_count": 19
        },
        {
          "output_type": "display_data",
          "data": {
            "text/plain": [
              "<Figure size 432x288 with 1 Axes>"
            ],
            "image/png": "[encoded data removed]"
          },
          "metadata": {
            "needs_background": "light"
          }
        }
      ]
    },
    {
      "cell_type": "code",
      "source": [
        "train_labels[4]"
      ],
      "metadata": {
        "colab": {
          "base_uri": "https://localhost:8080/"
        },
        "id": "SGTwxui4n3lh",
        "outputId": "e36e85e7-ef2c-4e5f-979a-122d788a7ebc"
      },
      "execution_count": 20,
      "outputs": [
        {
          "output_type": "execute_result",
          "data": {
            "text/plain": [
              "0"
            ]
          },
          "metadata": {},
          "execution_count": 20
        }
      ]
    },
    {
      "cell_type": "code",
      "source": [
        "class_name = ['T-shirt/top', 'Trouser', 'Pullover', 'Dress', 'Coat', 'Sandal',\t'Shirt', 'Sneaker', 'Bag', 'Ankle boot']\n",
        "len(class_name)"
      ],
      "metadata": {
        "colab": {
          "base_uri": "https://localhost:8080/"
        },
        "id": "e_Odw5EWoGa6",
        "outputId": "7cb7d089-a90a-4ace-b821-ad5777fe21fd"
      },
      "execution_count": 21,
      "outputs": [
        {
          "output_type": "execute_result",
          "data": {
            "text/plain": [
              "10"
            ]
          },
          "metadata": {},
          "execution_count": 21
        }
      ]
    },
    {
      "cell_type": "code",
      "source": [
        "# Let's visualize an example\n",
        "index_no = 2\n",
        "plt.figure(figsize=(5,5))\n",
        "plt.imshow(train_data[index_no], cmap=plt.cm.binary)\n",
        "plt.title(class_name[train_labels[index_no]])"
      ],
      "metadata": {
        "colab": {
          "base_uri": "https://localhost:8080/",
          "height": 353
        },
        "id": "pTeR13_oo7Jf",
        "outputId": "256fe3bc-e2f5-4528-8255-85b7b60b8911"
      },
      "execution_count": 22,
      "outputs": [
        {
          "output_type": "execute_result",
          "data": {
            "text/plain": [
              "Text(0.5, 1.0, 'T-shirt/top')"
            ]
          },
          "metadata": {},
          "execution_count": 22
        },
        {
          "output_type": "display_data",
          "data": {
            "text/plain": [
              "<Figure size 360x360 with 1 Axes>"
            ],
            "image/png": "[encoded data removed]"
          },
          "metadata": {
            "needs_background": "light"
          }
        }
      ]
    },
    {
      "cell_type": "code",
      "source": [
        "# Plot multiple random images of fashion MNIST\n",
        "import random\n",
        "n=3\n",
        "plt.figure(figsize=(9, 9))\n",
        "for i in range(6):\n",
        "  ax = plt.subplot(n, n, i + 1)\n",
        "  rand_index = random.choice(range(len(train_data)))\n",
        "  plt.imshow(train_data[rand_index], cmap=plt.cm.binary)\n",
        "  plt.title(class_name[train_labels[rand_index]])\n",
        "  plt.axis(False)"
      ],
      "metadata": {
        "colab": {
          "base_uri": "https://localhost:8080/",
          "height": 363
        },
        "id": "TvBechkiDlIV",
        "outputId": "6c0e4c9f-4e60-44ac-d706-c186f521088b"
      },
      "execution_count": 23,
      "outputs": [
        {
          "output_type": "display_data",
          "data": {
            "text/plain": [
              "<Figure size 648x648 with 6 Axes>"
            ],
            "image/png": "[encoded data removed]"
          },
          "metadata": {
            "needs_background": "light"
          }
        }
      ]
    },
    {
      "cell_type": "markdown",
      "source": [
        "Let's build our first multi-class classification model. In this Model we have to make few changes:\n",
        "* Input Shape will be 28x28 tensor since the height and width of image is 28 \n",
        "* Output shape will be 10 since we have 10 classes\n",
        "* Activation function will be `softmax` instead of `sigmoid`\n",
        "* loss function will be `CategoricalCrossentropy` instead of `BinaryCrossentropy`\n",
        "> 🔑 **Note** Use `CategoricalCrossEntropy` loss function when there are two or more then two labels. Labels are expected in `one_hot` format. If labels are integer then we have to use `SparseCategoricalCrossentropy`\n",
        "\n",
        "`tf.keras.layers.Flatten`, transforms the format of the images from a two-dimensional array (of 28 by 28 pixels) to a one-dimensional array (of 28 * 28 = 784 pixels)."
      ],
      "metadata": {
        "id": "EbkSjzz5XYXX"
      }
    },
    {
      "cell_type": "code",
      "source": [
        "# Set random seed\n",
        "tf.random.set_seed(13)\n",
        "\n",
        "# Create the Model\n",
        "model3 = tf.keras.Sequential([\n",
        "    tf.keras.layers.Flatten(input_shape=(28, 28)), # input layer\n",
        "    tf.keras.layers.Dense(4, activation='relu'),\n",
        "    tf.keras.layers.Dense(4, activation='relu'),\n",
        "    tf.keras.layers.Dense(10, activation='softmax')\n",
        "])\n",
        "\n",
        "# Compile the model\n",
        "model3.compile(loss=tf.keras.losses.SparseCategoricalCrossentropy(),\n",
        "               optimizer='Adam',\n",
        "               metrics=['Accuracy'])\n",
        "\n",
        "# Fit the model\n",
        "# If you want to see training result set verbose=1, default is 1\n",
        "history = model3.fit(train_data, train_labels, epochs=10, validation_data=(test_data, test_labels), verbose=0)"
      ],
      "metadata": {
        "id": "8Ucqv6UvYqgD"
      },
      "execution_count": 24,
      "outputs": []
    },
    {
      "cell_type": "code",
      "source": [
        "model3.summary()"
      ],
      "metadata": {
        "colab": {
          "base_uri": "https://localhost:8080/"
        },
        "id": "7an7RGXZa9YE",
        "outputId": "5e12b65b-0eeb-4875-c9f3-f5c81d6b76cf"
      },
      "execution_count": 25,
      "outputs": [
        {
          "output_type": "stream",
          "name": "stdout",
          "text": [
            "Model: \"sequential_2\"\n",
            "_________________________________________________________________\n",
            " Layer (type)                Output Shape              Param #   \n",
            "=================================================================\n",
            " flatten (Flatten)           (None, 784)               0         \n",
            "                                                                 \n",
            " dense_3 (Dense)             (None, 4)                 3140      \n",
            "                                                                 \n",
            " dense_4 (Dense)             (None, 4)                 20        \n",
            "                                                                 \n",
            " dense_5 (Dense)             (None, 10)                50        \n",
            "                                                                 \n",
            "=================================================================\n",
            "Total params: 3,210\n",
            "Trainable params: 3,210\n",
            "Non-trainable params: 0\n",
            "_________________________________________________________________\n"
          ]
        }
      ]
    },
    {
      "cell_type": "markdown",
      "source": [
        "Write now the data we used is not Normalized because the pixel value is between 0 and 255."
      ],
      "metadata": {
        "id": "3-QBjjAtbsxA"
      }
    },
    {
      "cell_type": "code",
      "source": [
        "# Check the max and min value\n",
        "train_data.min(), train_data.max()"
      ],
      "metadata": {
        "colab": {
          "base_uri": "https://localhost:8080/"
        },
        "id": "THEbPixyb6ls",
        "outputId": "97b82f72-c85b-4a20-c3df-43479b0415bc"
      },
      "execution_count": 26,
      "outputs": [
        {
          "output_type": "execute_result",
          "data": {
            "text/plain": [
              "(0, 255)"
            ]
          },
          "metadata": {},
          "execution_count": 26
        }
      ]
    },
    {
      "cell_type": "markdown",
      "source": [
        "We can get these values between 0 and 1 by dividing the entire array by the maximum: `255.0` (dividing by a float also converts to a float).\n",
        "\n",
        "\n",
        "Doing so will result in all of our data being between 0 and 1 (known as **scaling** or **normalization**)."
      ],
      "metadata": {
        "id": "zG7ExcngcF73"
      }
    },
    {
      "cell_type": "code",
      "source": [
        "train_data = train_data / 255.0\n",
        "test_data = test_data / 255.0\n",
        "train_data.min(), train_data.max()"
      ],
      "metadata": {
        "colab": {
          "base_uri": "https://localhost:8080/"
        },
        "id": "pdsXnED6cQCK",
        "outputId": "fc04514f-096e-464d-bcd1-17c4c63d586a"
      },
      "execution_count": 27,
      "outputs": [
        {
          "output_type": "execute_result",
          "data": {
            "text/plain": [
              "(0.0, 1.0)"
            ]
          },
          "metadata": {},
          "execution_count": 27
        }
      ]
    },
    {
      "cell_type": "markdown",
      "source": [
        "Let's build the model again with Normalized data"
      ],
      "metadata": {
        "id": "fHyBZ5QFclUJ"
      }
    },
    {
      "cell_type": "code",
      "source": [
        "# Set the random seed\n",
        "tf.random.set_seed(13)\n",
        "\n",
        "# Build the model\n",
        "model4 = tf.keras.Sequential([\n",
        "    tf.keras.layers.Flatten(input_shape=(28, 28)),\n",
        "    tf.keras.layers.Dense(4, activation='relu'),\n",
        "    tf.keras.layers.Dense(4, activation='relu'),\n",
        "    tf.keras.layers.Dense(10, activation='softmax')\n",
        "])\n",
        "\n",
        "# Compile the Model\n",
        "model4.compile(loss=tf.keras.losses.SparseCategoricalCrossentropy(),\n",
        "               optimizer='Adam',\n",
        "               metrics=['Accuracy'])\n",
        "\n",
        "# Fit the Model\n",
        "history = model4.fit(train_data, train_labels, epochs=10, validation_data=(test_data, test_labels),verbose=0)"
      ],
      "metadata": {
        "id": "d0zivqwLcq9E"
      },
      "execution_count": 28,
      "outputs": []
    },
    {
      "cell_type": "markdown",
      "source": [
        "We can see that model accuracy reached to 76 % from 10% with normalized data"
      ],
      "metadata": {
        "id": "Xro6sovHegxw"
      }
    },
    {
      "cell_type": "code",
      "source": [
        "# Plot the loss curve\n",
        "import pandas as pd\n",
        "pd.DataFrame(history.history).plot(title = 'Normalized data')"
      ],
      "metadata": {
        "colab": {
          "base_uri": "https://localhost:8080/",
          "height": 298
        },
        "id": "I9TrFFqZevzU",
        "outputId": "0d311016-604f-4fa7-8a6e-438bfd17b62c"
      },
      "execution_count": 29,
      "outputs": [
        {
          "output_type": "execute_result",
          "data": {
            "text/plain": [
              "<matplotlib.axes._subplots.AxesSubplot at 0x7f6051eadb90>"
            ]
          },
          "metadata": {},
          "execution_count": 29
        },
        {
          "output_type": "display_data",
          "data": {
            "text/plain": [
              "<Figure size 432x288 with 1 Axes>"
            ],
            "image/png": "[encoded data removed]"
          },
          "metadata": {
            "needs_background": "light"
          }
        }
      ]
    },
    {
      "cell_type": "markdown",
      "source": [
        "### LearningRateScheduler\n",
        "Get the best learning rate with `LearningRateScheduler` in Tensorflow.\n",
        "`tf.keras.callbacks.LearningRateScheduler(schedule, verbose=0)`\n",
        "At the beginning of every epoch, this callback gets the updated learning rate value from schedule function provided at __init__, with the current epoch and current learning rate, and applies the updated learning rate on the optimizer.\n"
      ],
      "metadata": {
        "id": "YalZD76bOyS3"
      }
    },
    {
      "cell_type": "code",
      "source": [
        "# Set the random seed\n",
        "tf.random.set_seed(13)\n",
        "\n",
        "# Build the model\n",
        "model4 = tf.keras.Sequential([\n",
        "    tf.keras.layers.Flatten(input_shape=(28, 28)),\n",
        "    tf.keras.layers.Dense(4, activation='relu'),\n",
        "    tf.keras.layers.Dense(4, activation='relu'),\n",
        "    tf.keras.layers.Dense(10, activation='softmax') \n",
        "])\n",
        "\n",
        "# Compile the Model\n",
        "model4.compile(loss=tf.keras.losses.SparseCategoricalCrossentropy(),\n",
        "               optimizer=tf.keras.optimizers.Adam(),\n",
        "               metrics=['Accuracy'])\n",
        "\n",
        "# With each epoch it will increase the value of lr\n",
        "callback = tf.keras.callbacks.LearningRateScheduler(lambda epoch: 1e-3 * 10**(epoch/20))\n",
        "\n",
        "# Fit the model\n",
        "history = model4.fit(train_data, train_labels, epochs=40, validation_data=(test_data, test_labels),callbacks=[callback], verbose=0)"
      ],
      "metadata": {
        "id": "MwgMdUKWW10s"
      },
      "execution_count": 30,
      "outputs": []
    },
    {
      "cell_type": "code",
      "source": [
        "# Plot the learning rate decay curve\n",
        "import numpy as np\n",
        "import matplotlib.pyplot as plt\n",
        "lrs = 1e-3 * (10**(np.arange(40)/20))\n",
        "plt.semilogx(lrs, history.history[\"loss\"]) # want the x-axis to be log-scale\n",
        "plt.xlabel(\"Learning rate\")\n",
        "plt.ylabel(\"Loss\")\n",
        "plt.title(\"Ideal learning rate\");"
      ],
      "metadata": {
        "colab": {
          "base_uri": "https://localhost:8080/",
          "height": 299
        },
        "id": "VZgk961sbiu-",
        "outputId": "9c7575d3-b8d8-4535-d20c-731afe9b7737"
      },
      "execution_count": 31,
      "outputs": [
        {
          "output_type": "display_data",
          "data": {
            "text/plain": [
              "<Figure size 432x288 with 1 Axes>"
            ],
            "image/png": "[encoded data removed]"
          },
          "metadata": {
            "needs_background": "light"
          }
        }
      ]
    },
    {
      "cell_type": "markdown",
      "source": [
        "We can see from the plot that somewhere 1e-3 is our ideal learning rate as the loss falls abruptly, this is also the defaluit lr of `Adam()` optimizer. So let's keep the lr parameter to `0.001` and train our model"
      ],
      "metadata": {
        "id": "Cmk-zFKre91u"
      }
    },
    {
      "cell_type": "markdown",
      "source": [
        "### Early Stopping\n",
        "`tf.keras.callbacks.EarlyStopping` will stop training when a monitored metric has stopped improving.\n",
        "\n",
        "\n"
      ],
      "metadata": {
        "id": "83uJAwjHhL7w"
      }
    },
    {
      "cell_type": "code",
      "source": [
        "# Set the random seed\n",
        "tf.random.set_seed(13)\n",
        "\n",
        "# Build the model\n",
        "model5 = tf.keras.Sequential([\n",
        "    tf.keras.layers.Flatten(input_shape=(28, 28)),\n",
        "    tf.keras.layers.Dense(4, activation='relu'),\n",
        "    tf.keras.layers.Dense(4, activation='relu'),\n",
        "    tf.keras.layers.Dense(10, activation='softmax') \n",
        "])\n",
        "\n",
        "# Compile the Model\n",
        "model5.compile(loss=tf.keras.losses.SparseCategoricalCrossentropy(),\n",
        "               optimizer=tf.keras.optimizers.Adam(learning_rate=0.001),\n",
        "               metrics=['Accuracy'])\n",
        "\n",
        "# Early Stopping\n",
        "# This callback will stop the training when there is no improvement in the loss for three consecutive epochs.\n",
        "\n",
        "callback = tf.keras.callbacks.EarlyStopping(monitor='val_loss', patience=3)\n",
        "\n",
        "# Fit the Model\n",
        "history = model5.fit(train_data, train_labels, epochs=100, validation_data=(test_data, test_labels), callbacks=[callback], verbose=0)"
      ],
      "metadata": {
        "id": "4keB1gVof2kd"
      },
      "execution_count": 32,
      "outputs": []
    },
    {
      "cell_type": "markdown",
      "source": [
        "As you can see the training has stopped as soon as there is no improvement in `val_loss` for three consecutive epochs. You can also try with `loss` and see the changes"
      ],
      "metadata": {
        "id": "hAn3zMdpdeIF"
      }
    },
    {
      "cell_type": "code",
      "source": [
        "y_pred = model5.predict(test_data)"
      ],
      "metadata": {
        "colab": {
          "base_uri": "https://localhost:8080/"
        },
        "id": "q1LUEtsvDMpr",
        "outputId": "0e4a56dd-2fa3-45a9-d250-f416f51a2514"
      },
      "execution_count": 33,
      "outputs": [
        {
          "output_type": "stream",
          "name": "stdout",
          "text": [
            "313/313 [==============================] - 1s 2ms/step\n"
          ]
        }
      ]
    },
    {
      "cell_type": "code",
      "source": [
        "y_pred[0].argmax(),  class_name[y_pred[0].argmax()]"
      ],
      "metadata": {
        "colab": {
          "base_uri": "https://localhost:8080/"
        },
        "id": "XtLmeAgEDg-i",
        "outputId": "b4af175a-c20f-4fcf-e2de-e87ed5e31d4a"
      },
      "execution_count": 34,
      "outputs": [
        {
          "output_type": "execute_result",
          "data": {
            "text/plain": [
              "(9, 'Ankle boot')"
            ]
          },
          "metadata": {},
          "execution_count": 34
        }
      ]
    },
    {
      "cell_type": "code",
      "source": [
        "# Convert all of the predictions from probabilities to labels\n",
        "y_preds = y_pred.argmax(axis=1)\n",
        "\n",
        "# View the first 10 prediction labels\n",
        "y_preds[:10]"
      ],
      "metadata": {
        "colab": {
          "base_uri": "https://localhost:8080/"
        },
        "id": "RhG63mX2EHdv",
        "outputId": "128f3ca7-c5fc-429b-fece-f92f1b75ffba"
      },
      "execution_count": 35,
      "outputs": [
        {
          "output_type": "execute_result",
          "data": {
            "text/plain": [
              "array([9, 4, 1, 1, 2, 1, 2, 6, 5, 7])"
            ]
          },
          "metadata": {},
          "execution_count": 35
        }
      ]
    },
    {
      "cell_type": "code",
      "source": [
        "# Check out the non-prettified confusion matrix\n",
        "confusion_matrix(y_true=test_labels, \n",
        "                 y_pred=y_preds)"
      ],
      "metadata": {
        "colab": {
          "base_uri": "https://localhost:8080/"
        },
        "id": "rpNxYpYmETGo",
        "outputId": "8ed44bc2-c3ce-43c4-eef4-eeb7651d0120"
      },
      "execution_count": 36,
      "outputs": [
        {
          "output_type": "execute_result",
          "data": {
            "text/plain": [
              "array([[806,   3,  43,  62,   2,   1,  74,   0,   9,   0],\n",
              "       [  4, 946,   9,  35,   4,   0,   2,   0,   0,   0],\n",
              "       [ 26,   5, 733,  12, 124,   0,  97,   0,   3,   0],\n",
              "       [ 57,  23,  39, 811,  34,   3,  31,   0,   2,   0],\n",
              "       [  1,   4, 214,  27, 694,   0,  54,   0,   6,   0],\n",
              "       [  0,   0,   0,  11,   0, 877,   0,  53,  12,  47],\n",
              "       [206,   3, 205,  41, 116,   0, 420,   0,   9,   0],\n",
              "       [  0,   0,   0,   0,   0,  35,   0, 928,   0,  37],\n",
              "       [  1,   1,   2,  10,   9,  27,  69,   5, 876,   0],\n",
              "       [  0,   0,   0,   2,   0,  29,   1,  41,   0, 927]])"
            ]
          },
          "metadata": {},
          "execution_count": 36
        }
      ]
    },
    {
      "cell_type": "code",
      "source": [
        "import itertools\n",
        "def custom_confusion_matrix(y_true, y_pred, classes=None, figsize=(10,10), text_size=15):\n",
        "  '''\n",
        "    Creates a custom confusion matrix by comparing prediction and groud truth.\n",
        "    If classes are not passed then it will take integer value\n",
        "\n",
        "    Args:\n",
        "    ================\n",
        "    y_true: Array of True labels(shape should be same as y_pred)\n",
        "    y_pred: Array of Predicted labels(shape should be same as y_true)\n",
        "    classes: Array of class labels, default will be integer\n",
        "    figsize: Size of output fig\n",
        "    text_size: Size of output fig text(default 15)\n",
        "  '''\n",
        "  cm = confusion_matrix(y_true, y_pred)\n",
        "  cm_norm = cm.astype(\"float\") / cm.sum(axis=1)[:, np.newaxis] # normalize it\n",
        "  n_classes = cm.shape[0] # find the number of classes we're dealing with\n",
        "  #print(n_classes)\n",
        "\n",
        "  # Plot the figure and make it pretty\n",
        "  fig, ax = plt.subplots(figsize=figsize)\n",
        "  cax = ax.matshow(cm, cmap=plt.cm.Reds) # colors will represent how 'correct' a class is, darker == better\n",
        "  fig.colorbar(cax)\n",
        "\n",
        "  # If there is a list of class\n",
        "  if classes:\n",
        "    labels = classes\n",
        "  else:\n",
        "    labels = np.arange(cm.shape[0])\n",
        "  \n",
        "  # Label the axes\n",
        "  ax.set(title=\"Confusion Matrix\",\n",
        "         xlabel=\"Predicted label\",\n",
        "         ylabel=\"True label\",\n",
        "         xticks=np.arange(n_classes), # create enough axis slots for each class\n",
        "         yticks=np.arange(n_classes), \n",
        "         xticklabels=labels, # axes will labeled with class names (if they exist) or ints\n",
        "         yticklabels=labels)\n",
        "  \n",
        "  # Make x-axis labels appear on bottom\n",
        "  ax.xaxis.set_label_position(\"bottom\")\n",
        "  ax.xaxis.tick_bottom()\n",
        "\n",
        "  # Set the threshold for different colors\n",
        "  threshold = (cm.max() + cm.min()) / 2.\n",
        "  \n",
        "  # Plot the text on each cell\n",
        "  for i, j in itertools.product(range(cm.shape[0]), range(cm.shape[1])):\n",
        "    plt.text(j, i, f\"{cm[i, j]} ({cm_norm[i, j]*100:.1f}%)\",\n",
        "             horizontalalignment=\"center\",\n",
        "             color=\"white\" if cm[i, j] > threshold else \"black\",\n",
        "             size=text_size)"
      ],
      "metadata": {
        "id": "bYXrAYmpFoIV"
      },
      "execution_count": 37,
      "outputs": []
    },
    {
      "cell_type": "code",
      "source": [
        "custom_confusion_matrix(\n",
        "    y_true=test_labels,\n",
        "    y_pred=y_preds,\n",
        "    classes=class_name,\n",
        "    figsize=(15,15),\n",
        "    text_size=10\n",
        ")"
      ],
      "metadata": {
        "colab": {
          "base_uri": "https://localhost:8080/",
          "height": 852
        },
        "id": "ZC_6XntyRqbz",
        "outputId": "eae739c0-fc20-47ec-a0b9-5ea3327e2051"
      },
      "execution_count": 38,
      "outputs": [
        {
          "output_type": "display_data",
          "data": {
            "text/plain": [
              "<Figure size 1080x1080 with 2 Axes>"
            ],
            "image/png": "[encoded data removed]"
          },
          "metadata": {
            "needs_background": "light"
          }
        }
      ]
    },
    {
      "cell_type": "markdown",
      "source": [
        "From the confusion matrix we can see that  our Model is getting confused between `Shirt` and `T-shirt/top`."
      ],
      "metadata": {
        "id": "m0qKOTVMX_R4"
      }
    },
    {
      "cell_type": "markdown",
      "source": [
        "#### Happy Learning !!\n",
        "You can connect and follow me @\n",
        "  * [LinkedIn](https://www.linkedin.com/in/priya-singh1803)\n",
        "  * [Github](https://github.com/piyu18/)\n",
        "  * [Medium](https://medium.com/@priya1803)\n"
      ],
      "metadata": {
        "id": "Ue67vDJVGtAl"
      }
    }
  ]
}