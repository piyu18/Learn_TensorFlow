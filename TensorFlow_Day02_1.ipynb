{
  "nbformat": 4,
  "nbformat_minor": 0,
  "metadata": {
    "colab": {
      "provenance": [],
      "collapsed_sections": [],
      "authorship_tag": "ABX9TyPdY/qhs+xptK5r4F3gfbgV",
      "include_colab_link": true
    },
    "kernelspec": {
      "name": "python3",
      "display_name": "Python 3"
    },
    "language_info": {
      "name": "python"
    }
  },
  "cells": [
    {
      "cell_type": "markdown",
      "metadata": {
        "id": "view-in-github",
        "colab_type": "text"
      },
      "source": [
        "<a href=\"https://colab.research.google.com/github/piyu18/Learn_TensorFlow/blob/main/TensorFlow_Day02_1.ipynb\" target=\"_parent\"><img src=\"https://colab.research.google.com/assets/colab-badge.svg\" alt=\"Open In Colab\"/></a>"
      ]
    },
    {
      "cell_type": "code",
      "execution_count": 1,
      "metadata": {
        "id": "DzncH_rLoAx1"
      },
      "outputs": [],
      "source": [
        "# Import TensorFlow\n",
        "import tensorflow as tf"
      ]
    },
    {
      "cell_type": "markdown",
      "source": [
        "### Variance and Standard Deviation in TensorFlow\n",
        "  * `tf.math.reduce_std()` -> Computes the standard deviation of elements across dimensions of a tensor.\n",
        "  * `tfp.stats.variance()` -> Estimates the variance\n",
        "\n"
      ],
      "metadata": {
        "id": "gS9CfuWdrCwS"
      }
    },
    {
      "cell_type": "code",
      "source": [
        "# Create a tensor with 30 random values between 0 and 100\n",
        "import numpy as np\n",
        "X1 = tf.constant(np.random.randint(low=0, high=110, size=30))\n",
        "X1"
      ],
      "metadata": {
        "colab": {
          "base_uri": "https://localhost:8080/"
        },
        "id": "DlA3eOcCrA68",
        "outputId": "c21c9301-b1e2-4e57-b682-5cc96e871128"
      },
      "execution_count": 2,
      "outputs": [
        {
          "output_type": "execute_result",
          "data": {
            "text/plain": [
              "<tf.Tensor: shape=(30,), dtype=int64, numpy=\n",
              "array([  4,  62,  79,  42,  85,  35,  61,  61,  38,  20,  37, 100,  35,\n",
              "        41,   6,   8,  28,  73,  39, 106,  46,  74, 100,   8,  66, 107,\n",
              "        34,  21,  38,  24])>"
            ]
          },
          "metadata": {},
          "execution_count": 2
        }
      ]
    },
    {
      "cell_type": "code",
      "source": [
        "# Calculate Variance\n",
        "import tensorflow_probability as tfp\n",
        "tfp.stats.variance(X1)"
      ],
      "metadata": {
        "colab": {
          "base_uri": "https://localhost:8080/"
        },
        "id": "a7_-kQJ0vns_",
        "outputId": "ade44dd6-7f84-409c-b846-f2f779f51375"
      },
      "execution_count": 3,
      "outputs": [
        {
          "output_type": "execute_result",
          "data": {
            "text/plain": [
              "<tf.Tensor: shape=(), dtype=int64, numpy=903>"
            ]
          },
          "metadata": {},
          "execution_count": 3
        }
      ]
    },
    {
      "cell_type": "code",
      "source": [
        "# Calculate Std deviation\n",
        "tf.math.reduce_std(X1)"
      ],
      "metadata": {
        "colab": {
          "base_uri": "https://localhost:8080/",
          "height": 328
        },
        "id": "mcoMCshAv6K3",
        "outputId": "34e8978a-70f2-47f7-ebb1-2f63214c037e"
      },
      "execution_count": 4,
      "outputs": [
        {
          "output_type": "error",
          "ename": "TypeError",
          "evalue": "ignored",
          "traceback": [
            "\u001b[0;31m---------------------------------------------------------------------------\u001b[0m",
            "\u001b[0;31mTypeError\u001b[0m                                 Traceback (most recent call last)",
            "\u001b[0;32m<ipython-input-4-6950306bb39f>\u001b[0m in \u001b[0;36m<module>\u001b[0;34m\u001b[0m\n\u001b[1;32m      1\u001b[0m \u001b[0;31m# Calculate Std deviation\u001b[0m\u001b[0;34m\u001b[0m\u001b[0;34m\u001b[0m\u001b[0;34m\u001b[0m\u001b[0m\n\u001b[0;32m----> 2\u001b[0;31m \u001b[0mtf\u001b[0m\u001b[0;34m.\u001b[0m\u001b[0mmath\u001b[0m\u001b[0;34m.\u001b[0m\u001b[0mreduce_std\u001b[0m\u001b[0;34m(\u001b[0m\u001b[0mX1\u001b[0m\u001b[0;34m)\u001b[0m\u001b[0;34m\u001b[0m\u001b[0;34m\u001b[0m\u001b[0m\n\u001b[0m",
            "\u001b[0;32m/usr/local/lib/python3.7/dist-packages/tensorflow/python/util/traceback_utils.py\u001b[0m in \u001b[0;36merror_handler\u001b[0;34m(*args, **kwargs)\u001b[0m\n\u001b[1;32m    151\u001b[0m     \u001b[0;32mexcept\u001b[0m \u001b[0mException\u001b[0m \u001b[0;32mas\u001b[0m \u001b[0me\u001b[0m\u001b[0;34m:\u001b[0m\u001b[0;34m\u001b[0m\u001b[0;34m\u001b[0m\u001b[0m\n\u001b[1;32m    152\u001b[0m       \u001b[0mfiltered_tb\u001b[0m \u001b[0;34m=\u001b[0m \u001b[0m_process_traceback_frames\u001b[0m\u001b[0;34m(\u001b[0m\u001b[0me\u001b[0m\u001b[0;34m.\u001b[0m\u001b[0m__traceback__\u001b[0m\u001b[0;34m)\u001b[0m\u001b[0;34m\u001b[0m\u001b[0;34m\u001b[0m\u001b[0m\n\u001b[0;32m--> 153\u001b[0;31m       \u001b[0;32mraise\u001b[0m \u001b[0me\u001b[0m\u001b[0;34m.\u001b[0m\u001b[0mwith_traceback\u001b[0m\u001b[0;34m(\u001b[0m\u001b[0mfiltered_tb\u001b[0m\u001b[0;34m)\u001b[0m \u001b[0;32mfrom\u001b[0m \u001b[0;32mNone\u001b[0m\u001b[0;34m\u001b[0m\u001b[0;34m\u001b[0m\u001b[0m\n\u001b[0m\u001b[1;32m    154\u001b[0m     \u001b[0;32mfinally\u001b[0m\u001b[0;34m:\u001b[0m\u001b[0;34m\u001b[0m\u001b[0;34m\u001b[0m\u001b[0m\n\u001b[1;32m    155\u001b[0m       \u001b[0;32mdel\u001b[0m \u001b[0mfiltered_tb\u001b[0m\u001b[0;34m\u001b[0m\u001b[0;34m\u001b[0m\u001b[0m\n",
            "\u001b[0;32m/usr/local/lib/python3.7/dist-packages/tensorflow/python/ops/math_ops.py\u001b[0m in \u001b[0;36mreduce_variance\u001b[0;34m(input_tensor, axis, keepdims, name)\u001b[0m\n\u001b[1;32m   2691\u001b[0m     \u001b[0mmeans\u001b[0m \u001b[0;34m=\u001b[0m \u001b[0mreduce_mean\u001b[0m\u001b[0;34m(\u001b[0m\u001b[0minput_tensor\u001b[0m\u001b[0;34m,\u001b[0m \u001b[0maxis\u001b[0m\u001b[0;34m=\u001b[0m\u001b[0maxis\u001b[0m\u001b[0;34m,\u001b[0m \u001b[0mkeepdims\u001b[0m\u001b[0;34m=\u001b[0m\u001b[0;32mTrue\u001b[0m\u001b[0;34m)\u001b[0m\u001b[0;34m\u001b[0m\u001b[0;34m\u001b[0m\u001b[0m\n\u001b[1;32m   2692\u001b[0m     \u001b[0;32mif\u001b[0m \u001b[0mmeans\u001b[0m\u001b[0;34m.\u001b[0m\u001b[0mdtype\u001b[0m\u001b[0;34m.\u001b[0m\u001b[0mis_integer\u001b[0m\u001b[0;34m:\u001b[0m\u001b[0;34m\u001b[0m\u001b[0;34m\u001b[0m\u001b[0m\n\u001b[0;32m-> 2693\u001b[0;31m       raise TypeError(f\"Input must be either real or complex. \"\n\u001b[0m\u001b[1;32m   2694\u001b[0m                       f\"Received integer type {means.dtype}.\")\n\u001b[1;32m   2695\u001b[0m     \u001b[0mdiff\u001b[0m \u001b[0;34m=\u001b[0m \u001b[0minput_tensor\u001b[0m \u001b[0;34m-\u001b[0m \u001b[0mmeans\u001b[0m\u001b[0;34m\u001b[0m\u001b[0;34m\u001b[0m\u001b[0m\n",
            "\u001b[0;31mTypeError\u001b[0m: Input must be either real or complex. Received integer type <dtype: 'int64'>."
          ]
        }
      ]
    },
    {
      "cell_type": "markdown",
      "source": [
        "As we can see that `tf.math.reduce_std()` only accepts real and complex no, so we have to change the type of our data"
      ],
      "metadata": {
        "id": "XGcZiEBrxupP"
      }
    },
    {
      "cell_type": "code",
      "source": [
        "# Convert int64 to float32\n",
        "tf.math.reduce_std(tf.cast(X1, dtype=tf.float32))"
      ],
      "metadata": {
        "colab": {
          "base_uri": "https://localhost:8080/"
        },
        "id": "0yASQcvXwLNx",
        "outputId": "c86556ef-8215-4744-d93b-10e656182822"
      },
      "execution_count": 5,
      "outputs": [
        {
          "output_type": "execute_result",
          "data": {
            "text/plain": [
              "<tf.Tensor: shape=(), dtype=float32, numpy=30.059866>"
            ]
          },
          "metadata": {},
          "execution_count": 5
        }
      ]
    },
    {
      "cell_type": "markdown",
      "source": [
        "### TensorFlow Squeeze\n",
        "`tf.squeeze()` -> Removes dimensions of size 1 from the shape of a tensor."
      ],
      "metadata": {
        "id": "XXcY5D7U12_i"
      }
    },
    {
      "cell_type": "code",
      "source": [
        "# Create a tensor\n",
        "X2 = tf.constant(tf.random.uniform(shape=[20]),shape=[1,1,1,20])\n",
        "X2"
      ],
      "metadata": {
        "colab": {
          "base_uri": "https://localhost:8080/"
        },
        "id": "b41d-eL2xk3V",
        "outputId": "500fc9eb-1917-4d61-acfe-a5e7eff55111"
      },
      "execution_count": 6,
      "outputs": [
        {
          "output_type": "execute_result",
          "data": {
            "text/plain": [
              "<tf.Tensor: shape=(1, 1, 1, 20), dtype=float32, numpy=\n",
              "array([[[[0.5532799 , 0.5576147 , 0.10667801, 0.49840486, 0.14909327,\n",
              "          0.35542428, 0.2944758 , 0.07129622, 0.44076645, 0.3718586 ,\n",
              "          0.94122875, 0.80234647, 0.0070231 , 0.38027966, 0.7272756 ,\n",
              "          0.96195483, 0.99689555, 0.67693746, 0.7685406 , 0.08358443]]]],\n",
              "      dtype=float32)>"
            ]
          },
          "metadata": {},
          "execution_count": 6
        }
      ]
    },
    {
      "cell_type": "code",
      "source": [
        "# Squeeze the tensor\n",
        "tf.squeeze(X2)"
      ],
      "metadata": {
        "colab": {
          "base_uri": "https://localhost:8080/"
        },
        "id": "JLnwAM952jfL",
        "outputId": "e2ceff9e-21ec-4769-d941-90c1870cd538"
      },
      "execution_count": 7,
      "outputs": [
        {
          "output_type": "execute_result",
          "data": {
            "text/plain": [
              "<tf.Tensor: shape=(20,), dtype=float32, numpy=\n",
              "array([0.5532799 , 0.5576147 , 0.10667801, 0.49840486, 0.14909327,\n",
              "       0.35542428, 0.2944758 , 0.07129622, 0.44076645, 0.3718586 ,\n",
              "       0.94122875, 0.80234647, 0.0070231 , 0.38027966, 0.7272756 ,\n",
              "       0.96195483, 0.99689555, 0.67693746, 0.7685406 , 0.08358443],\n",
              "      dtype=float32)>"
            ]
          },
          "metadata": {},
          "execution_count": 7
        }
      ]
    },
    {
      "cell_type": "code",
      "source": [
        "X3 = tf.constant(tf.random.uniform(shape=[50],minval=10, maxval=100, dtype=tf.int32), shape=[1,1,1,2,25])\n",
        "X3"
      ],
      "metadata": {
        "colab": {
          "base_uri": "https://localhost:8080/"
        },
        "id": "USeaGDPU2z6_",
        "outputId": "9a81f896-741b-4cae-9a13-99a2555035c3"
      },
      "execution_count": 8,
      "outputs": [
        {
          "output_type": "execute_result",
          "data": {
            "text/plain": [
              "<tf.Tensor: shape=(1, 1, 1, 2, 25), dtype=int32, numpy=\n",
              "array([[[[[15, 54, 67, 13, 73, 29, 85, 58, 37, 22, 82, 14, 82, 66, 29,\n",
              "           55, 84, 82, 45, 63, 93, 15, 25, 62, 80],\n",
              "          [88, 85, 15, 60, 49, 29, 64, 80, 39, 61, 95, 75, 49, 87, 55,\n",
              "           33, 52, 78, 92, 89, 10, 96, 29, 68, 13]]]]], dtype=int32)>"
            ]
          },
          "metadata": {},
          "execution_count": 8
        }
      ]
    },
    {
      "cell_type": "code",
      "source": [
        "tf.squeeze(X3)"
      ],
      "metadata": {
        "colab": {
          "base_uri": "https://localhost:8080/"
        },
        "id": "xLgu7Gms3ufF",
        "outputId": "dd94ab1c-293c-4927-c18e-cb40941f2bf4"
      },
      "execution_count": 9,
      "outputs": [
        {
          "output_type": "execute_result",
          "data": {
            "text/plain": [
              "<tf.Tensor: shape=(2, 25), dtype=int32, numpy=\n",
              "array([[15, 54, 67, 13, 73, 29, 85, 58, 37, 22, 82, 14, 82, 66, 29, 55,\n",
              "        84, 82, 45, 63, 93, 15, 25, 62, 80],\n",
              "       [88, 85, 15, 60, 49, 29, 64, 80, 39, 61, 95, 75, 49, 87, 55, 33,\n",
              "        52, 78, 92, 89, 10, 96, 29, 68, 13]], dtype=int32)>"
            ]
          },
          "metadata": {},
          "execution_count": 9
        }
      ]
    },
    {
      "cell_type": "code",
      "source": [
        "X4 = tf.constant(tf.random.uniform(shape=[20],minval=10, maxval=100, dtype=tf.int32), shape=[1,1,1,1,2,10])\n",
        "X4"
      ],
      "metadata": {
        "colab": {
          "base_uri": "https://localhost:8080/"
        },
        "id": "h5M4WY8438ib",
        "outputId": "c36920bf-f8db-4f5b-cc60-8ca16da06d30"
      },
      "execution_count": 10,
      "outputs": [
        {
          "output_type": "execute_result",
          "data": {
            "text/plain": [
              "<tf.Tensor: shape=(1, 1, 1, 1, 2, 10), dtype=int32, numpy=\n",
              "array([[[[[[66, 73, 59, 73, 95, 91, 43, 93, 99, 20],\n",
              "           [64, 10, 84, 82, 94, 35, 12, 91, 21, 91]]]]]], dtype=int32)>"
            ]
          },
          "metadata": {},
          "execution_count": 10
        }
      ]
    },
    {
      "cell_type": "code",
      "source": [
        "tf.squeeze(X4, [1,3]) "
      ],
      "metadata": {
        "colab": {
          "base_uri": "https://localhost:8080/"
        },
        "id": "Ty7DsuQauDsz",
        "outputId": "1d1c84b5-03a3-4c7d-cf18-23bb36a3ab6b"
      },
      "execution_count": 11,
      "outputs": [
        {
          "output_type": "execute_result",
          "data": {
            "text/plain": [
              "<tf.Tensor: shape=(1, 1, 2, 10), dtype=int32, numpy=\n",
              "array([[[[66, 73, 59, 73, 95, 91, 43, 93, 99, 20],\n",
              "         [64, 10, 84, 82, 94, 35, 12, 91, 21, 91]]]], dtype=int32)>"
            ]
          },
          "metadata": {},
          "execution_count": 11
        }
      ]
    }
  ]
}