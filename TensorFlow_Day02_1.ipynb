{
  "nbformat": 4,
  "nbformat_minor": 0,
  "metadata": {
    "colab": {
      "provenance": [],
      "collapsed_sections": [],
      "authorship_tag": "ABX9TyPXZCatox8OWIxQ1x1gXui7",
      "include_colab_link": true
    },
    "kernelspec": {
      "name": "python3",
      "display_name": "Python 3"
    },
    "language_info": {
      "name": "python"
    }
  },
  "cells": [
    {
      "cell_type": "markdown",
      "metadata": {
        "id": "view-in-github",
        "colab_type": "text"
      },
      "source": [
        "<a href=\"https://colab.research.google.com/github/piyu18/Learn_TensorFlow/blob/main/TensorFlow_Day02_1.ipynb\" target=\"_parent\"><img src=\"https://colab.research.google.com/assets/colab-badge.svg\" alt=\"Open In Colab\"/></a>"
      ]
    },
    {
      "cell_type": "code",
      "execution_count": 1,
      "metadata": {
        "id": "DzncH_rLoAx1"
      },
      "outputs": [],
      "source": [
        "# Import TensorFlow\n",
        "import tensorflow as tf"
      ]
    },
    {
      "cell_type": "markdown",
      "source": [
        "### Variance and Standard Deviation in TensorFlow\n",
        "  * `tf.math.reduce_std()` -> Computes the standard deviation of elements across dimensions of a tensor.\n",
        "  * `tfp.stats.variance()` -> Estimates the variance\n",
        "\n"
      ],
      "metadata": {
        "id": "gS9CfuWdrCwS"
      }
    },
    {
      "cell_type": "code",
      "source": [
        "# Create a tensor with 30 random values between 0 and 100\n",
        "import numpy as np\n",
        "X1 = tf.constant(np.random.randint(low=0, high=110, size=30))\n",
        "X1"
      ],
      "metadata": {
        "colab": {
          "base_uri": "https://localhost:8080/"
        },
        "id": "DlA3eOcCrA68",
        "outputId": "d30a97dc-93f0-4759-8892-7c5cea6775b3"
      },
      "execution_count": 2,
      "outputs": [
        {
          "output_type": "execute_result",
          "data": {
            "text/plain": [
              "<tf.Tensor: shape=(30,), dtype=int64, numpy=\n",
              "array([ 66,  60,  82,  50,  62,  80,  98,  65,  62, 106, 104,  24,   1,\n",
              "        78,  98,  90,  63,  31,  14,   2,  97,  59,  20,  76,  60,  51,\n",
              "       100,  73,  66,  11])>"
            ]
          },
          "metadata": {},
          "execution_count": 2
        }
      ]
    },
    {
      "cell_type": "code",
      "source": [
        "# Calculate Variance\n",
        "import tensorflow_probability as tfp\n",
        "tfp.stats.variance(X1)"
      ],
      "metadata": {
        "colab": {
          "base_uri": "https://localhost:8080/"
        },
        "id": "a7_-kQJ0vns_",
        "outputId": "aafbd7db-de7d-4cd3-80ee-bcc624bdd48c"
      },
      "execution_count": 3,
      "outputs": [
        {
          "output_type": "execute_result",
          "data": {
            "text/plain": [
              "<tf.Tensor: shape=(), dtype=int64, numpy=925>"
            ]
          },
          "metadata": {},
          "execution_count": 3
        }
      ]
    },
    {
      "cell_type": "code",
      "source": [
        "# Calculate Std deviation\n",
        "tf.math.reduce_std(X1)"
      ],
      "metadata": {
        "colab": {
          "base_uri": "https://localhost:8080/",
          "height": 328
        },
        "id": "mcoMCshAv6K3",
        "outputId": "8f28466f-66ec-42d5-9657-f3b7c0d4d557"
      },
      "execution_count": 4,
      "outputs": [
        {
          "output_type": "error",
          "ename": "TypeError",
          "evalue": "ignored",
          "traceback": [
            "\u001b[0;31m---------------------------------------------------------------------------\u001b[0m",
            "\u001b[0;31mTypeError\u001b[0m                                 Traceback (most recent call last)",
            "\u001b[0;32m<ipython-input-4-6950306bb39f>\u001b[0m in \u001b[0;36m<module>\u001b[0;34m\u001b[0m\n\u001b[1;32m      1\u001b[0m \u001b[0;31m# Calculate Std deviation\u001b[0m\u001b[0;34m\u001b[0m\u001b[0;34m\u001b[0m\u001b[0;34m\u001b[0m\u001b[0m\n\u001b[0;32m----> 2\u001b[0;31m \u001b[0mtf\u001b[0m\u001b[0;34m.\u001b[0m\u001b[0mmath\u001b[0m\u001b[0;34m.\u001b[0m\u001b[0mreduce_std\u001b[0m\u001b[0;34m(\u001b[0m\u001b[0mX1\u001b[0m\u001b[0;34m)\u001b[0m\u001b[0;34m\u001b[0m\u001b[0;34m\u001b[0m\u001b[0m\n\u001b[0m",
            "\u001b[0;32m/usr/local/lib/python3.7/dist-packages/tensorflow/python/util/traceback_utils.py\u001b[0m in \u001b[0;36merror_handler\u001b[0;34m(*args, **kwargs)\u001b[0m\n\u001b[1;32m    151\u001b[0m     \u001b[0;32mexcept\u001b[0m \u001b[0mException\u001b[0m \u001b[0;32mas\u001b[0m \u001b[0me\u001b[0m\u001b[0;34m:\u001b[0m\u001b[0;34m\u001b[0m\u001b[0;34m\u001b[0m\u001b[0m\n\u001b[1;32m    152\u001b[0m       \u001b[0mfiltered_tb\u001b[0m \u001b[0;34m=\u001b[0m \u001b[0m_process_traceback_frames\u001b[0m\u001b[0;34m(\u001b[0m\u001b[0me\u001b[0m\u001b[0;34m.\u001b[0m\u001b[0m__traceback__\u001b[0m\u001b[0;34m)\u001b[0m\u001b[0;34m\u001b[0m\u001b[0;34m\u001b[0m\u001b[0m\n\u001b[0;32m--> 153\u001b[0;31m       \u001b[0;32mraise\u001b[0m \u001b[0me\u001b[0m\u001b[0;34m.\u001b[0m\u001b[0mwith_traceback\u001b[0m\u001b[0;34m(\u001b[0m\u001b[0mfiltered_tb\u001b[0m\u001b[0;34m)\u001b[0m \u001b[0;32mfrom\u001b[0m \u001b[0;32mNone\u001b[0m\u001b[0;34m\u001b[0m\u001b[0;34m\u001b[0m\u001b[0m\n\u001b[0m\u001b[1;32m    154\u001b[0m     \u001b[0;32mfinally\u001b[0m\u001b[0;34m:\u001b[0m\u001b[0;34m\u001b[0m\u001b[0;34m\u001b[0m\u001b[0m\n\u001b[1;32m    155\u001b[0m       \u001b[0;32mdel\u001b[0m \u001b[0mfiltered_tb\u001b[0m\u001b[0;34m\u001b[0m\u001b[0;34m\u001b[0m\u001b[0m\n",
            "\u001b[0;32m/usr/local/lib/python3.7/dist-packages/tensorflow/python/ops/math_ops.py\u001b[0m in \u001b[0;36mreduce_variance\u001b[0;34m(input_tensor, axis, keepdims, name)\u001b[0m\n\u001b[1;32m   2691\u001b[0m     \u001b[0mmeans\u001b[0m \u001b[0;34m=\u001b[0m \u001b[0mreduce_mean\u001b[0m\u001b[0;34m(\u001b[0m\u001b[0minput_tensor\u001b[0m\u001b[0;34m,\u001b[0m \u001b[0maxis\u001b[0m\u001b[0;34m=\u001b[0m\u001b[0maxis\u001b[0m\u001b[0;34m,\u001b[0m \u001b[0mkeepdims\u001b[0m\u001b[0;34m=\u001b[0m\u001b[0;32mTrue\u001b[0m\u001b[0;34m)\u001b[0m\u001b[0;34m\u001b[0m\u001b[0;34m\u001b[0m\u001b[0m\n\u001b[1;32m   2692\u001b[0m     \u001b[0;32mif\u001b[0m \u001b[0mmeans\u001b[0m\u001b[0;34m.\u001b[0m\u001b[0mdtype\u001b[0m\u001b[0;34m.\u001b[0m\u001b[0mis_integer\u001b[0m\u001b[0;34m:\u001b[0m\u001b[0;34m\u001b[0m\u001b[0;34m\u001b[0m\u001b[0m\n\u001b[0;32m-> 2693\u001b[0;31m       raise TypeError(f\"Input must be either real or complex. \"\n\u001b[0m\u001b[1;32m   2694\u001b[0m                       f\"Received integer type {means.dtype}.\")\n\u001b[1;32m   2695\u001b[0m     \u001b[0mdiff\u001b[0m \u001b[0;34m=\u001b[0m \u001b[0minput_tensor\u001b[0m \u001b[0;34m-\u001b[0m \u001b[0mmeans\u001b[0m\u001b[0;34m\u001b[0m\u001b[0;34m\u001b[0m\u001b[0m\n",
            "\u001b[0;31mTypeError\u001b[0m: Input must be either real or complex. Received integer type <dtype: 'int64'>."
          ]
        }
      ]
    },
    {
      "cell_type": "markdown",
      "source": [
        "As we can see that `tf.math.reduce_std()` only accepts real and complex no, so we have to change the type of our data"
      ],
      "metadata": {
        "id": "XGcZiEBrxupP"
      }
    },
    {
      "cell_type": "code",
      "source": [
        "# Convert int64 to float32\n",
        "tf.math.reduce_std(tf.cast(X1, dtype=tf.float32))"
      ],
      "metadata": {
        "colab": {
          "base_uri": "https://localhost:8080/"
        },
        "id": "0yASQcvXwLNx",
        "outputId": "8d515441-3b09-458d-f844-d4b4fd8d7fcc"
      },
      "execution_count": 5,
      "outputs": [
        {
          "output_type": "execute_result",
          "data": {
            "text/plain": [
              "<tf.Tensor: shape=(), dtype=float32, numpy=30.417631>"
            ]
          },
          "metadata": {},
          "execution_count": 5
        }
      ]
    },
    {
      "cell_type": "markdown",
      "source": [
        "### TensorFlow Squeeze\n",
        "`tf.squeeze()` -> Removes dimensions of size 1 from the shape of a tensor."
      ],
      "metadata": {
        "id": "XXcY5D7U12_i"
      }
    },
    {
      "cell_type": "code",
      "source": [
        "# Create a tensor\n",
        "X2 = tf.constant(tf.random.uniform(shape=[20]),shape=[1,1,1,20])\n",
        "X2"
      ],
      "metadata": {
        "colab": {
          "base_uri": "https://localhost:8080/"
        },
        "id": "b41d-eL2xk3V",
        "outputId": "49b02240-97b2-49cd-c829-2391d926bfc4"
      },
      "execution_count": 6,
      "outputs": [
        {
          "output_type": "execute_result",
          "data": {
            "text/plain": [
              "<tf.Tensor: shape=(1, 1, 1, 20), dtype=float32, numpy=\n",
              "array([[[[0.2944181 , 0.07496345, 0.75908756, 0.37098694, 0.0229733 ,\n",
              "          0.6194639 , 0.9213797 , 0.09461701, 0.37774038, 0.7560067 ,\n",
              "          0.12451136, 0.33121395, 0.03219354, 0.8136115 , 0.9464791 ,\n",
              "          0.28960526, 0.09681916, 0.20769823, 0.21366143, 0.73628056]]]],\n",
              "      dtype=float32)>"
            ]
          },
          "metadata": {},
          "execution_count": 6
        }
      ]
    },
    {
      "cell_type": "code",
      "source": [
        "# Squeeze the tensor\n",
        "tf.squeeze(X2)"
      ],
      "metadata": {
        "colab": {
          "base_uri": "https://localhost:8080/"
        },
        "id": "JLnwAM952jfL",
        "outputId": "4b751e4b-91ee-4476-e373-39beccd7e70c"
      },
      "execution_count": 7,
      "outputs": [
        {
          "output_type": "execute_result",
          "data": {
            "text/plain": [
              "<tf.Tensor: shape=(20,), dtype=float32, numpy=\n",
              "array([0.2944181 , 0.07496345, 0.75908756, 0.37098694, 0.0229733 ,\n",
              "       0.6194639 , 0.9213797 , 0.09461701, 0.37774038, 0.7560067 ,\n",
              "       0.12451136, 0.33121395, 0.03219354, 0.8136115 , 0.9464791 ,\n",
              "       0.28960526, 0.09681916, 0.20769823, 0.21366143, 0.73628056],\n",
              "      dtype=float32)>"
            ]
          },
          "metadata": {},
          "execution_count": 7
        }
      ]
    },
    {
      "cell_type": "code",
      "source": [
        "X3 = tf.constant(tf.random.uniform(shape=[50],minval=10, maxval=100, dtype=tf.int32), shape=[1,1,1,2,25])\n",
        "X3"
      ],
      "metadata": {
        "colab": {
          "base_uri": "https://localhost:8080/"
        },
        "id": "USeaGDPU2z6_",
        "outputId": "b83e4509-a6f2-4dc6-dab6-8947ccd09194"
      },
      "execution_count": 8,
      "outputs": [
        {
          "output_type": "execute_result",
          "data": {
            "text/plain": [
              "<tf.Tensor: shape=(1, 1, 1, 2, 25), dtype=int32, numpy=\n",
              "array([[[[[40, 24, 17, 92, 21, 80, 13, 56, 88, 31, 88, 16, 35, 69, 19,\n",
              "           31, 89, 86, 62, 21, 28, 98, 51, 88, 21],\n",
              "          [95, 83, 49, 51, 95, 62, 98, 30, 81, 18, 17, 64, 43, 22, 33,\n",
              "           87, 69, 29, 13, 18, 62, 52, 10, 18, 72]]]]], dtype=int32)>"
            ]
          },
          "metadata": {},
          "execution_count": 8
        }
      ]
    },
    {
      "cell_type": "code",
      "source": [
        "tf.squeeze(X3)"
      ],
      "metadata": {
        "colab": {
          "base_uri": "https://localhost:8080/"
        },
        "id": "xLgu7Gms3ufF",
        "outputId": "d3f4afaf-2be0-44b9-95bd-0652e4e28341"
      },
      "execution_count": 9,
      "outputs": [
        {
          "output_type": "execute_result",
          "data": {
            "text/plain": [
              "<tf.Tensor: shape=(2, 25), dtype=int32, numpy=\n",
              "array([[40, 24, 17, 92, 21, 80, 13, 56, 88, 31, 88, 16, 35, 69, 19, 31,\n",
              "        89, 86, 62, 21, 28, 98, 51, 88, 21],\n",
              "       [95, 83, 49, 51, 95, 62, 98, 30, 81, 18, 17, 64, 43, 22, 33, 87,\n",
              "        69, 29, 13, 18, 62, 52, 10, 18, 72]], dtype=int32)>"
            ]
          },
          "metadata": {},
          "execution_count": 9
        }
      ]
    },
    {
      "cell_type": "code",
      "source": [
        "X4 = tf.constant(tf.random.uniform(shape=[20],minval=10, maxval=100, dtype=tf.int32), shape=[1,1,1,1,2,10])\n",
        "X4"
      ],
      "metadata": {
        "colab": {
          "base_uri": "https://localhost:8080/"
        },
        "id": "h5M4WY8438ib",
        "outputId": "3cc01fb1-1cdc-41a2-b004-b95c9db73e74"
      },
      "execution_count": 91,
      "outputs": [
        {
          "output_type": "execute_result",
          "data": {
            "text/plain": [
              "<tf.Tensor: shape=(1, 1, 1, 1, 2, 10), dtype=int32, numpy=\n",
              "array([[[[[[72, 21, 90, 11, 77, 96, 11, 16, 72, 25],\n",
              "           [20, 74, 68, 23, 65, 94, 43, 92, 81, 21]]]]]], dtype=int32)>"
            ]
          },
          "metadata": {},
          "execution_count": 91
        }
      ]
    },
    {
      "cell_type": "code",
      "source": [
        "tf.squeeze(X4, [1,3]) "
      ],
      "metadata": {
        "colab": {
          "base_uri": "https://localhost:8080/"
        },
        "id": "Ty7DsuQauDsz",
        "outputId": "97a9976a-6331-439a-ed56-68afee0b2011"
      },
      "execution_count": 94,
      "outputs": [
        {
          "output_type": "execute_result",
          "data": {
            "text/plain": [
              "<tf.Tensor: shape=(1, 1, 2, 10), dtype=int32, numpy=\n",
              "array([[[[72, 21, 90, 11, 77, 96, 11, 16, 72, 25],\n",
              "         [20, 74, 68, 23, 65, 94, 43, 92, 81, 21]]]], dtype=int32)>"
            ]
          },
          "metadata": {},
          "execution_count": 94
        }
      ]
    },
    {
      "cell_type": "code",
      "source": [],
      "metadata": {
        "id": "yJwas4hHuoOU"
      },
      "execution_count": null,
      "outputs": []
    }
  ]
}